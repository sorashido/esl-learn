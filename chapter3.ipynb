{
 "cells": [
  {
   "cell_type": "markdown",
   "metadata": {},
   "source": [
    "## 3.17\n",
    "スパムデータについて、表3.3と同様の解析(最小二乗法、最良部分集合、リッジ回帰、lasso、主成分回帰、部分最小二乗法をした時の係数と評価誤差を示す、また予測誤差が最小となるパラメータを10分割交差確認により決定)をせよ\n"
   ]
  },
  {
   "cell_type": "code",
   "execution_count": 69,
   "metadata": {},
   "outputs": [],
   "source": [
    "import pandas as pd\n",
    "import numpy as np"
   ]
  },
  {
   "cell_type": "markdown",
   "metadata": {},
   "source": [
    "### dataset\n",
    ">4601通のメール全てについて、email(0), spam(1)のどちらかのラベル\n",
    "メール本文中に最も頻出する57種類の単語と句読点記号の相対出現頻度も与えられている"
   ]
  },
  {
   "cell_type": "code",
   "execution_count": 33,
   "metadata": {},
   "outputs": [],
   "source": [
    "dataset = pd.read_csv(\"./data/chapter3/spambase.data\", sep=\",\", header=None)"
   ]
  },
  {
   "cell_type": "code",
   "execution_count": 34,
   "metadata": {},
   "outputs": [
    {
     "data": {
      "text/html": [
       "<div>\n",
       "<style scoped>\n",
       "    .dataframe tbody tr th:only-of-type {\n",
       "        vertical-align: middle;\n",
       "    }\n",
       "\n",
       "    .dataframe tbody tr th {\n",
       "        vertical-align: top;\n",
       "    }\n",
       "\n",
       "    .dataframe thead th {\n",
       "        text-align: right;\n",
       "    }\n",
       "</style>\n",
       "<table border=\"1\" class=\"dataframe\">\n",
       "  <thead>\n",
       "    <tr style=\"text-align: right;\">\n",
       "      <th></th>\n",
       "      <th>0</th>\n",
       "      <th>1</th>\n",
       "      <th>2</th>\n",
       "      <th>3</th>\n",
       "      <th>4</th>\n",
       "      <th>5</th>\n",
       "      <th>6</th>\n",
       "      <th>7</th>\n",
       "      <th>8</th>\n",
       "      <th>9</th>\n",
       "      <th>...</th>\n",
       "      <th>48</th>\n",
       "      <th>49</th>\n",
       "      <th>50</th>\n",
       "      <th>51</th>\n",
       "      <th>52</th>\n",
       "      <th>53</th>\n",
       "      <th>54</th>\n",
       "      <th>55</th>\n",
       "      <th>56</th>\n",
       "      <th>57</th>\n",
       "    </tr>\n",
       "  </thead>\n",
       "  <tbody>\n",
       "    <tr>\n",
       "      <th>0</th>\n",
       "      <td>0.00</td>\n",
       "      <td>0.64</td>\n",
       "      <td>0.64</td>\n",
       "      <td>0.0</td>\n",
       "      <td>0.32</td>\n",
       "      <td>0.00</td>\n",
       "      <td>0.00</td>\n",
       "      <td>0.00</td>\n",
       "      <td>0.00</td>\n",
       "      <td>0.00</td>\n",
       "      <td>...</td>\n",
       "      <td>0.00</td>\n",
       "      <td>0.000</td>\n",
       "      <td>0.0</td>\n",
       "      <td>0.778</td>\n",
       "      <td>0.000</td>\n",
       "      <td>0.000</td>\n",
       "      <td>3.756</td>\n",
       "      <td>61</td>\n",
       "      <td>278</td>\n",
       "      <td>1</td>\n",
       "    </tr>\n",
       "    <tr>\n",
       "      <th>1</th>\n",
       "      <td>0.21</td>\n",
       "      <td>0.28</td>\n",
       "      <td>0.50</td>\n",
       "      <td>0.0</td>\n",
       "      <td>0.14</td>\n",
       "      <td>0.28</td>\n",
       "      <td>0.21</td>\n",
       "      <td>0.07</td>\n",
       "      <td>0.00</td>\n",
       "      <td>0.94</td>\n",
       "      <td>...</td>\n",
       "      <td>0.00</td>\n",
       "      <td>0.132</td>\n",
       "      <td>0.0</td>\n",
       "      <td>0.372</td>\n",
       "      <td>0.180</td>\n",
       "      <td>0.048</td>\n",
       "      <td>5.114</td>\n",
       "      <td>101</td>\n",
       "      <td>1028</td>\n",
       "      <td>1</td>\n",
       "    </tr>\n",
       "    <tr>\n",
       "      <th>2</th>\n",
       "      <td>0.06</td>\n",
       "      <td>0.00</td>\n",
       "      <td>0.71</td>\n",
       "      <td>0.0</td>\n",
       "      <td>1.23</td>\n",
       "      <td>0.19</td>\n",
       "      <td>0.19</td>\n",
       "      <td>0.12</td>\n",
       "      <td>0.64</td>\n",
       "      <td>0.25</td>\n",
       "      <td>...</td>\n",
       "      <td>0.01</td>\n",
       "      <td>0.143</td>\n",
       "      <td>0.0</td>\n",
       "      <td>0.276</td>\n",
       "      <td>0.184</td>\n",
       "      <td>0.010</td>\n",
       "      <td>9.821</td>\n",
       "      <td>485</td>\n",
       "      <td>2259</td>\n",
       "      <td>1</td>\n",
       "    </tr>\n",
       "    <tr>\n",
       "      <th>3</th>\n",
       "      <td>0.00</td>\n",
       "      <td>0.00</td>\n",
       "      <td>0.00</td>\n",
       "      <td>0.0</td>\n",
       "      <td>0.63</td>\n",
       "      <td>0.00</td>\n",
       "      <td>0.31</td>\n",
       "      <td>0.63</td>\n",
       "      <td>0.31</td>\n",
       "      <td>0.63</td>\n",
       "      <td>...</td>\n",
       "      <td>0.00</td>\n",
       "      <td>0.137</td>\n",
       "      <td>0.0</td>\n",
       "      <td>0.137</td>\n",
       "      <td>0.000</td>\n",
       "      <td>0.000</td>\n",
       "      <td>3.537</td>\n",
       "      <td>40</td>\n",
       "      <td>191</td>\n",
       "      <td>1</td>\n",
       "    </tr>\n",
       "    <tr>\n",
       "      <th>4</th>\n",
       "      <td>0.00</td>\n",
       "      <td>0.00</td>\n",
       "      <td>0.00</td>\n",
       "      <td>0.0</td>\n",
       "      <td>0.63</td>\n",
       "      <td>0.00</td>\n",
       "      <td>0.31</td>\n",
       "      <td>0.63</td>\n",
       "      <td>0.31</td>\n",
       "      <td>0.63</td>\n",
       "      <td>...</td>\n",
       "      <td>0.00</td>\n",
       "      <td>0.135</td>\n",
       "      <td>0.0</td>\n",
       "      <td>0.135</td>\n",
       "      <td>0.000</td>\n",
       "      <td>0.000</td>\n",
       "      <td>3.537</td>\n",
       "      <td>40</td>\n",
       "      <td>191</td>\n",
       "      <td>1</td>\n",
       "    </tr>\n",
       "  </tbody>\n",
       "</table>\n",
       "<p>5 rows × 58 columns</p>\n",
       "</div>"
      ],
      "text/plain": [
       "     0     1     2    3     4     5     6     7     8     9  ...    48     49  \\\n",
       "0  0.00  0.64  0.64  0.0  0.32  0.00  0.00  0.00  0.00  0.00 ...  0.00  0.000   \n",
       "1  0.21  0.28  0.50  0.0  0.14  0.28  0.21  0.07  0.00  0.94 ...  0.00  0.132   \n",
       "2  0.06  0.00  0.71  0.0  1.23  0.19  0.19  0.12  0.64  0.25 ...  0.01  0.143   \n",
       "3  0.00  0.00  0.00  0.0  0.63  0.00  0.31  0.63  0.31  0.63 ...  0.00  0.137   \n",
       "4  0.00  0.00  0.00  0.0  0.63  0.00  0.31  0.63  0.31  0.63 ...  0.00  0.135   \n",
       "\n",
       "    50     51     52     53     54   55    56  57  \n",
       "0  0.0  0.778  0.000  0.000  3.756   61   278   1  \n",
       "1  0.0  0.372  0.180  0.048  5.114  101  1028   1  \n",
       "2  0.0  0.276  0.184  0.010  9.821  485  2259   1  \n",
       "3  0.0  0.137  0.000  0.000  3.537   40   191   1  \n",
       "4  0.0  0.135  0.000  0.000  3.537   40   191   1  \n",
       "\n",
       "[5 rows x 58 columns]"
      ]
     },
     "execution_count": 34,
     "metadata": {},
     "output_type": "execute_result"
    }
   ],
   "source": [
    "dataset.head()"
   ]
  },
  {
   "cell_type": "code",
   "execution_count": 35,
   "metadata": {},
   "outputs": [],
   "source": [
    "X = dataset.loc[:, 0:56]\n",
    "y = dataset[57]"
   ]
  },
  {
   "cell_type": "code",
   "execution_count": 85,
   "metadata": {},
   "outputs": [],
   "source": [
    "from sklearn import linear_model\n",
    "from sklearn.model_selection import cross_val_score\n",
    "from sklearn.model_selection import StratifiedKFold"
   ]
  },
  {
   "cell_type": "markdown",
   "metadata": {},
   "source": [
    "### 最小二乗法"
   ]
  },
  {
   "cell_type": "code",
   "execution_count": 91,
   "metadata": {},
   "outputs": [
    {
     "name": "stdout",
     "output_type": "stream",
     "text": [
      "0.54962642194\n",
      "0.465251537445\n",
      "0.552913282087\n",
      "0.497011064148\n",
      "0.580486350674\n",
      "0.534095863124\n",
      "0.532261338275\n",
      "0.558131081918\n",
      "0.441107043001\n",
      "0.557543646606\n"
     ]
    },
    {
     "data": {
      "text/plain": [
       "array([ -6.04822033e-02,  -1.18744742e-02,   3.81040657e-02,\n",
       "         1.17453750e-02,   8.48616267e-02,   1.24739435e-01,\n",
       "         2.05222758e-01,   1.07382953e-01,   6.78090407e-02,\n",
       "         1.68086751e-02,   5.72498035e-02,  -2.66458072e-02,\n",
       "         1.81404073e-02,  -9.53544421e-04,   1.04642840e-02,\n",
       "         7.27383782e-02,   5.06984567e-02,   5.52375330e-02,\n",
       "         1.44663403e-02,   6.05950371e-02,   5.39777404e-02,\n",
       "         4.55116983e-02,   1.68105027e-01,   8.74716436e-02,\n",
       "        -2.24153675e-02,  -2.28626944e-02,  -1.22538058e-02,\n",
       "         7.74631616e-03,  -7.80032708e-03,  -4.96029605e-02,\n",
       "        -2.41330188e-02,  -4.91463867e-02,  -4.17462414e-02,\n",
       "         1.14811721e-01,  -3.06781938e-02,   5.91294251e-03,\n",
       "        -3.34049647e-02,  -5.10296801e-02,  -1.64811802e-02,\n",
       "         4.34154982e-02,  -1.07345015e-02,  -3.71194292e-02,\n",
       "        -5.84234878e-02,  -3.04043540e-02,  -3.38285995e-02,\n",
       "        -3.68018216e-02,  -1.90384155e-01,  -5.65823326e-02,\n",
       "        -1.50005478e-01,  -6.85477743e-02,  -6.95311991e-02,\n",
       "         6.39220190e-02,   2.39248509e-01,   2.80394474e-02,\n",
       "         2.24981491e-04,   6.63781034e-05,   8.69042834e-05])"
      ]
     },
     "execution_count": 91,
     "metadata": {},
     "output_type": "execute_result"
    }
   ],
   "source": [
    "liner_reg = linear_model.LinearRegression()\n",
    "skf = StratifiedKFold(n_splits=10, shuffle=True)\n",
    "for train_index, test_index in skf.split(X, y):\n",
    "    X_train, X_test = X.iloc[train_index], X.iloc[test_index]\n",
    "    y_train, y_test = y.iloc[train_index], y.iloc[test_index]\n",
    "    liner_reg.fit(X_train, y_train)\n",
    "    print(liner_reg.score(X_test, y_test))\n",
    "    \n",
    "liner_reg.coef_"
   ]
  },
  {
   "cell_type": "markdown",
   "metadata": {},
   "source": [
    "### lasso"
   ]
  },
  {
   "cell_type": "code",
   "execution_count": 87,
   "metadata": {},
   "outputs": [
    {
     "name": "stdout",
     "output_type": "stream",
     "text": [
      "0.074663803356 0.261479292568\n",
      "0.0723400727555 0.239790976694\n",
      "0.0738132835655 0.292641796174\n",
      "0.0719681369377 -0.563192742156\n",
      "0.0738876532908 0.273553784982\n",
      "0.0778220288559 0.255862834378\n",
      "0.0748604740726 0.249324065553\n",
      "0.0734043415627 0.28589964262\n",
      "0.0739763929746 0.227163377349\n",
      "0.0714284556851 0.299266535206\n"
     ]
    },
    {
     "data": {
      "text/plain": [
       "array([ 0.        , -0.        ,  0.        ,  0.        ,  0.        ,\n",
       "        0.        ,  0.        ,  0.        ,  0.        ,  0.        ,\n",
       "        0.        , -0.        ,  0.        ,  0.        ,  0.        ,\n",
       "        0.02514984,  0.        ,  0.        ,  0.02737165,  0.        ,\n",
       "        0.07387063,  0.        ,  0.        ,  0.        , -0.0306168 ,\n",
       "       -0.        , -0.01150504, -0.        , -0.        , -0.        ,\n",
       "       -0.        , -0.        , -0.        , -0.        , -0.        ,\n",
       "       -0.        , -0.        , -0.        , -0.        , -0.        ,\n",
       "       -0.        , -0.        , -0.        , -0.        , -0.        ,\n",
       "       -0.        , -0.        , -0.        , -0.        , -0.        ,\n",
       "       -0.        ,  0.        ,  0.        ,  0.        ,  0.00081846,\n",
       "        0.00019454,  0.00014677])"
      ]
     },
     "execution_count": 87,
     "metadata": {},
     "output_type": "execute_result"
    }
   ],
   "source": [
    "lasso_cv = linear_model.LassoCV()\n",
    "skf = StratifiedKFold(n_splits=10, shuffle=True)\n",
    "for train_index, test_index in skf.split(X, y):\n",
    "    X_train, X_test = X.iloc[train_index], X.iloc[test_index]\n",
    "    y_train, y_test = y.iloc[train_index], y.iloc[test_index]\n",
    "    lasso_cv.fit(X_train, y_train)\n",
    "    print(lasso_cv.alpha_, lasso_cv.score(X_test, y_test))\n",
    "    \n",
    "lasso_cv.coef_"
   ]
  },
  {
   "cell_type": "markdown",
   "metadata": {},
   "source": [
    "### ridge"
   ]
  },
  {
   "cell_type": "code",
   "execution_count": 84,
   "metadata": {},
   "outputs": [
    {
     "name": "stdout",
     "output_type": "stream",
     "text": [
      "10.0 0.427556073439\n",
      "10.0 0.549070821765\n",
      "10.0 0.494522245649\n",
      "10.0 0.547305208917\n",
      "10.0 0.568063325936\n",
      "10.0 0.516702979968\n",
      "10.0 0.544445327352\n",
      "10.0 0.577551914307\n",
      "10.0 0.576346412536\n",
      "10.0 0.490830090746\n"
     ]
    },
    {
     "data": {
      "text/plain": [
       "array([ -6.90426085e-02,  -1.19262686e-02,   4.19173552e-02,\n",
       "         1.21509773e-02,   8.61342443e-02,   1.08941789e-01,\n",
       "         2.19709792e-01,   8.81796492e-02,   8.00723766e-02,\n",
       "         1.47837383e-02,   5.59995487e-02,  -2.57541752e-02,\n",
       "         2.06273969e-02,  -4.30194600e-03,   2.10434281e-02,\n",
       "         8.92535491e-02,   5.37038479e-02,   5.88105247e-02,\n",
       "         1.33056910e-02,   6.25344387e-02,   5.10653327e-02,\n",
       "         4.45124204e-02,   1.75052804e-01,   8.94186113e-02,\n",
       "        -2.24132730e-02,  -2.33546901e-02,  -1.18656795e-02,\n",
       "         1.80211308e-03,  -4.11909358e-03,  -4.86147038e-02,\n",
       "        -1.97981094e-02,   2.28716820e-02,  -5.19061511e-02,\n",
       "         2.36368532e-02,  -2.94285388e-02,   2.02297055e-02,\n",
       "        -3.29216176e-02,  -5.83331746e-02,  -1.77345916e-02,\n",
       "         4.62662654e-02,  -7.69942304e-03,  -3.81199980e-02,\n",
       "        -5.58852413e-02,  -3.42418105e-02,  -3.37934301e-02,\n",
       "        -3.76957832e-02,  -1.35948050e-01,  -6.49190264e-02,\n",
       "        -1.31707171e-01,  -5.63915930e-02,  -6.78190334e-02,\n",
       "         6.38178825e-02,   2.09032952e-01,   2.27964915e-02,\n",
       "         2.32561906e-04,   5.78497491e-05,   8.62740960e-05])"
      ]
     },
     "execution_count": 84,
     "metadata": {},
     "output_type": "execute_result"
    }
   ],
   "source": [
    "ridge_cv = linear_model.RidgeCV()\n",
    "skf = StratifiedKFold(n_splits=10, shuffle=True)\n",
    "for train_index, test_index in skf.split(X, y):\n",
    "    X_train, X_test = X.iloc[train_index], X.iloc[test_index]\n",
    "    y_train, y_test = y.iloc[train_index], y.iloc[test_index]\n",
    "    ridge_cv.fit(X_train, y_train)\n",
    "    print(ridge_cv.alpha_, ridge_cv.score(X_test, y_test))\n",
    "    \n",
    "ridge_cv.coef_"
   ]
  },
  {
   "cell_type": "markdown",
   "metadata": {},
   "source": [
    "### PCA"
   ]
  },
  {
   "cell_type": "code",
   "execution_count": null,
   "metadata": {},
   "outputs": [],
   "source": []
  }
 ],
 "metadata": {
  "kernelspec": {
   "display_name": "Python 3",
   "language": "python",
   "name": "python3"
  },
  "language_info": {
   "codemirror_mode": {
    "name": "ipython",
    "version": 3
   },
   "file_extension": ".py",
   "mimetype": "text/x-python",
   "name": "python",
   "nbconvert_exporter": "python",
   "pygments_lexer": "ipython3",
   "version": "3.6.4"
  },
  "toc": {
   "nav_menu": {},
   "number_sections": true,
   "sideBar": false,
   "skip_h1_title": false,
   "toc_cell": false,
   "toc_position": {},
   "toc_section_display": "block",
   "toc_window_display": false
  }
 },
 "nbformat": 4,
 "nbformat_minor": 2
}
